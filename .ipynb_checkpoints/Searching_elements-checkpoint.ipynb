{
 "cells": [
  {
   "cell_type": "code",
   "execution_count": 1,
   "metadata": {},
   "outputs": [],
   "source": [
    "from bs4 import BeautifulSoup"
   ]
  },
  {
   "cell_type": "code",
   "execution_count": 2,
   "metadata": {},
   "outputs": [
    {
     "name": "stdout",
     "output_type": "stream",
     "text": [
      "plants\n"
     ]
    }
   ],
   "source": [
    "with open(\"ecologicalpyramid.html\",\"r\") as ecological_pyramid:\n",
    "     soup = BeautifulSoup(ecological_pyramid,\"lxml\")\n",
    "producer_entries = soup.find(\"ul\")\n",
    "print(producer_entries.li.div.string)"
   ]
  },
  {
   "cell_type": "code",
   "execution_count": 30,
   "metadata": {},
   "outputs": [
    {
     "data": {
      "text/plain": [
       "<html>\n",
       "<body>\n",
       "<div class=\"ecopyramid\">\n",
       "<ul id=\"producers\">\n",
       "<li class=\"producerlist\">\n",
       "<div class=\"name\">plants</div>\n",
       "<div class=\"number\">100000</div>\n",
       "</li>\n",
       "<li class=\"producerlist\">\n",
       "<div class=\"name\">algae</div>\n",
       "<div class=\"number\">100000</div>\n",
       "</li>\n",
       "</ul>\n",
       "<ul id=\"primaryconsumers\">\n",
       "<li class=\"primaryconsumerlist\">\n",
       "<div class=\"name\">deer</div>\n",
       "<div class=\"number\">1000</div>\n",
       "</li>\n",
       "<li class=\"primaryconsumerlist\">\n",
       "<div class=\"name\">rabbit</div>\n",
       "<div class=\"number\">2000</div>\n",
       "</li>\n",
       "</ul>\n",
       "<ul id=\"secondaryconsumers\">\n",
       "<li class=\"secondaryconsumerlist\">\n",
       "<div class=\"name\">fox</div>\n",
       "<div class=\"number\">100</div>\n",
       "</li>\n",
       "<li class=\"secondaryconsumerlist\">\n",
       "<div class=\"name\">bear</div>\n",
       "<div class=\"number\">100</div>\n",
       "</li>\n",
       "</ul>\n",
       "<ul id=\"tertiaryconsumers\">\n",
       "<li class=\"tertiaryconsumerlist\">\n",
       "<div class=\"name\">lion</div>\n",
       "<div class=\"number\">80</div>\n",
       "</li>\n",
       "<li class=\"tertiaryconsumerlist\">\n",
       "<div class=\"name\">tiger</div>\n",
       "<div class=\"number\">50</div>\n",
       "</li>\n",
       "</ul>\n",
       "</div></body>\n",
       "</html>"
      ]
     },
     "execution_count": 30,
     "metadata": {},
     "output_type": "execute_result"
    }
   ],
   "source": [
    "soup"
   ]
  },
  {
   "cell_type": "code",
   "execution_count": 4,
   "metadata": {},
   "outputs": [
    {
     "data": {
      "text/plain": [
       "<ul id=\"producers\">\n",
       "<li class=\"producerlist\">\n",
       "<div class=\"name\">plants</div>\n",
       "<div class=\"number\">100000</div>\n",
       "</li>\n",
       "<li class=\"producerlist\">\n",
       "<div class=\"name\">algae</div>\n",
       "<div class=\"number\">100000</div>\n",
       "</li>\n",
       "</ul>"
      ]
     },
     "execution_count": 4,
     "metadata": {},
     "output_type": "execute_result"
    }
   ],
   "source": [
    "producer_entries"
   ]
  },
  {
   "cell_type": "markdown",
   "metadata": {},
   "source": [
    "find(name,attrs,recursive,text,**kwargs)\n",
    "\n",
    "Searching a tag, which corresponds to filtering based on the name parameter\n",
    "\n",
    "Searching text, which corresponds to the filtering based on the text parameter\n",
    "\n",
    "Searching based on a regular expression\n",
    "\n",
    "Searching based on attribute values of a tag, which corresponds to the filtering based on the attrs parameter\n",
    "\n",
    "Searching based on functions"
   ]
  },
  {
   "cell_type": "code",
   "execution_count": 6,
   "metadata": {},
   "outputs": [
    {
     "data": {
      "text/plain": [
       "'fox'"
      ]
     },
     "execution_count": 6,
     "metadata": {},
     "output_type": "execute_result"
    }
   ],
   "source": [
    "search_for_stringonly = soup.find(text=\"fox\")\n",
    "search_for_stringonly"
   ]
  },
  {
   "cell_type": "code",
   "execution_count": 7,
   "metadata": {},
   "outputs": [
    {
     "data": {
      "text/plain": [
       "<ul id=\"primaryconsumers\">\n",
       "<li class=\"primaryconsumerlist\">\n",
       "<div class=\"name\">deer</div>\n",
       "<div class=\"number\">1000</div>\n",
       "</li>\n",
       "<li class=\"primaryconsumerlist\">\n",
       "<div class=\"name\">rabbit</div>\n",
       "<div class=\"number\">2000</div>\n",
       "</li>\n",
       "</ul>"
      ]
     },
     "execution_count": 7,
     "metadata": {},
     "output_type": "execute_result"
    }
   ],
   "source": [
    "primary_consumers = soup.find(id=\"primaryconsumers\")\n",
    "primary_consumers.li.div.string\n",
    "primary_consumers"
   ]
  },
  {
   "cell_type": "code",
   "execution_count": 8,
   "metadata": {},
   "outputs": [
    {
     "data": {
      "text/plain": [
       "'deer'"
      ]
     },
     "execution_count": 8,
     "metadata": {},
     "output_type": "execute_result"
    }
   ],
   "source": [
    "primary_consumers.li.div.string"
   ]
  },
  {
   "cell_type": "code",
   "execution_count": 11,
   "metadata": {},
   "outputs": [
    {
     "data": {
      "text/plain": [
       "<li class=\"primaryconsumerlist\">\n",
       "<div class=\"name\">deer</div>\n",
       "<div class=\"number\">1000</div>\n",
       "</li>"
      ]
     },
     "execution_count": 11,
     "metadata": {},
     "output_type": "execute_result"
    }
   ],
   "source": [
    "primary_consumers.li"
   ]
  },
  {
   "cell_type": "code",
   "execution_count": 17,
   "metadata": {},
   "outputs": [
    {
     "name": "stdout",
     "output_type": "stream",
     "text": [
      "<li class=\"primaryconsumerlist\">\n",
      "<div class=\"name\">deer</div>\n",
      "<div class=\"number\">1000</div>\n",
      "</li>\n"
     ]
    }
   ],
   "source": [
    "css_class = soup.find(attrs={'class':'primaryconsumerlist'})\n",
    "print(css_class)\n"
   ]
  },
  {
   "cell_type": "code",
   "execution_count": 19,
   "metadata": {},
   "outputs": [
    {
     "data": {
      "text/plain": [
       "<div class=\"number\">1000</div>"
      ]
     },
     "execution_count": 19,
     "metadata": {},
     "output_type": "execute_result"
    }
   ],
   "source": [
    "primary_consumers.li.find(attrs={'class':'number'})"
   ]
  },
  {
   "cell_type": "code",
   "execution_count": 24,
   "metadata": {},
   "outputs": [
    {
     "name": "stdout",
     "output_type": "stream",
     "text": [
      "<li class=\"primaryconsumerlist\">\n",
      "<div class=\"name\">deer</div>\n",
      "<div class=\"number\">1000</div>\n",
      "</li>\n"
     ]
    }
   ],
   "source": [
    "css_class = soup.find(class_ = \"primaryconsumerlist\" )\n",
    "print(css_class)"
   ]
  },
  {
   "cell_type": "code",
   "execution_count": 25,
   "metadata": {},
   "outputs": [
    {
     "name": "stdout",
     "output_type": "stream",
     "text": [
      "fox\n"
     ]
    }
   ],
   "source": [
    "def is_secondary_consumers(tag):\n",
    "  return tag.has_attr('id') and tag.get('id') == 'secondaryconsumers'\n",
    "secondary_consumer =  soup.find(is_secondary_consumers)\n",
    "print(secondary_consumer.li.div.string)"
   ]
  },
  {
   "cell_type": "code",
   "execution_count": 26,
   "metadata": {},
   "outputs": [
    {
     "data": {
      "text/plain": [
       "<ul id=\"secondaryconsumers\">\n",
       "<li class=\"secondaryconsumerlist\">\n",
       "<div class=\"name\">fox</div>\n",
       "<div class=\"number\">100</div>\n",
       "</li>\n",
       "<li class=\"secondaryconsumerlist\">\n",
       "<div class=\"name\">bear</div>\n",
       "<div class=\"number\">100</div>\n",
       "</li>\n",
       "</ul>"
      ]
     },
     "execution_count": 26,
     "metadata": {},
     "output_type": "execute_result"
    }
   ],
   "source": [
    "secondary_consumer"
   ]
  },
  {
   "cell_type": "code",
   "execution_count": 31,
   "metadata": {},
   "outputs": [
    {
     "name": "stdout",
     "output_type": "stream",
     "text": [
      "[<li class=\"tertiaryconsumerlist\">\n",
      "<div class=\"name\">lion</div>\n",
      "<div class=\"number\">80</div>\n",
      "</li>, <li class=\"tertiaryconsumerlist\">\n",
      "<div class=\"name\">tiger</div>\n",
      "<div class=\"number\">50</div>\n",
      "</li>]\n"
     ]
    }
   ],
   "source": [
    "all_tertiaryconsumers = soup.find_all(class_=\"tertiaryconsumerlist\")\n",
    "print(all_tertiaryconsumers)"
   ]
  },
  {
   "cell_type": "code",
   "execution_count": 32,
   "metadata": {},
   "outputs": [
    {
     "name": "stdout",
     "output_type": "stream",
     "text": [
      "lion\n",
      "tiger\n"
     ]
    }
   ],
   "source": [
    "for tertiaryconsumer in all_tertiaryconsumers:\n",
    "  print(tertiaryconsumer.div.string)"
   ]
  },
  {
   "cell_type": "code",
   "execution_count": 33,
   "metadata": {},
   "outputs": [
    {
     "name": "stdout",
     "output_type": "stream",
     "text": [
      "<div class=\"name\">lion</div>\n",
      "<div class=\"name\">tiger</div>\n"
     ]
    }
   ],
   "source": [
    "for tertiaryconsumer in all_tertiaryconsumers:\n",
    "  print(tertiaryconsumer.find('div',attrs={\"class\":\"name\"}))"
   ]
  },
  {
   "cell_type": "code",
   "execution_count": 35,
   "metadata": {},
   "outputs": [
    {
     "name": "stdout",
     "output_type": "stream",
     "text": [
      "<div class=\"number\">80</div>\n",
      "<div class=\"number\">50</div>\n"
     ]
    }
   ],
   "source": [
    "for tertiaryconsumer in all_tertiaryconsumers:\n",
    "  print(tertiaryconsumer.find(class_=\"number\"))"
   ]
  },
  {
   "cell_type": "code",
   "execution_count": 39,
   "metadata": {},
   "outputs": [
    {
     "name": "stdout",
     "output_type": "stream",
     "text": [
      "['\\n', '\\n', '\\n', '\\n', '\\n', 'plants', '\\n', '100000', '\\n', '\\n', '\\n', 'algae', '\\n', '100000', '\\n', '\\n', '\\n', '\\n', '\\n', 'deer', '\\n', '1000', '\\n', '\\n', '\\n', 'rabbit', '\\n', '2000', '\\n', '\\n', '\\n', '\\n', '\\n', 'fox', '\\n', '100', '\\n', '\\n', '\\n', 'bear', '\\n', '100', '\\n', '\\n', '\\n', '\\n', '\\n', 'lion', '\\n', '80', '\\n', '\\n', '\\n', 'tiger', '\\n', '50', '\\n', '\\n', '\\n', '\\n', '\\n']\n"
     ]
    }
   ],
   "source": [
    "all_texts = soup.find_all(text=True)\n",
    "print(all_texts)"
   ]
  },
  {
   "cell_type": "code",
   "execution_count": 49,
   "metadata": {},
   "outputs": [
    {
     "data": {
      "text/plain": [
       "['\\n',\n",
       " 'plants',\n",
       " '100000',\n",
       " 'algae',\n",
       " 'deer',\n",
       " '1000',\n",
       " 'rabbit',\n",
       " '2000',\n",
       " 'fox',\n",
       " '100',\n",
       " 'bear',\n",
       " 'lion',\n",
       " '80',\n",
       " 'tiger',\n",
       " '50']"
      ]
     },
     "execution_count": 49,
     "metadata": {},
     "output_type": "execute_result"
    }
   ],
   "source": [
    "list(dict.fromkeys(all_texts))"
   ]
  },
  {
   "cell_type": "code",
   "execution_count": 51,
   "metadata": {},
   "outputs": [
    {
     "data": {
      "text/plain": [
       "{'\\n': None,\n",
       " 'plants': None,\n",
       " '100000': None,\n",
       " 'algae': None,\n",
       " 'deer': None,\n",
       " '1000': None,\n",
       " 'rabbit': None,\n",
       " '2000': None,\n",
       " 'fox': None,\n",
       " '100': None,\n",
       " 'bear': None,\n",
       " 'lion': None,\n",
       " '80': None,\n",
       " 'tiger': None,\n",
       " '50': None}"
      ]
     },
     "execution_count": 51,
     "metadata": {},
     "output_type": "execute_result"
    }
   ],
   "source": [
    "dict.fromkeys(all_texts)"
   ]
  },
  {
   "cell_type": "code",
   "execution_count": 52,
   "metadata": {},
   "outputs": [
    {
     "name": "stdout",
     "output_type": "stream",
     "text": [
      "['plants', 'algae']\n"
     ]
    }
   ],
   "source": [
    "all_texts_in_list = soup.find_all(text=[\"plants\",\"algae\"])\n",
    "print(all_texts_in_list)"
   ]
  },
  {
   "cell_type": "code",
   "execution_count": 62,
   "metadata": {},
   "outputs": [
    {
     "name": "stdout",
     "output_type": "stream",
     "text": [
      "[<div class=\"ecopyramid\">\n",
      "<ul id=\"producers\">\n",
      "<li class=\"producerlist\">\n",
      "<div class=\"name\">plants</div>\n",
      "<div class=\"number\">100000</div>\n",
      "</li>\n",
      "<li class=\"producerlist\">\n",
      "<div class=\"name\">algae</div>\n",
      "<div class=\"number\">100000</div>\n",
      "</li>\n",
      "</ul>\n",
      "<ul id=\"primaryconsumers\">\n",
      "<li class=\"primaryconsumerlist\">\n",
      "<div class=\"name\">deer</div>\n",
      "<div class=\"number\">1000</div>\n",
      "</li>\n",
      "<li class=\"primaryconsumerlist\">\n",
      "<div class=\"name\">rabbit</div>\n",
      "<div class=\"number\">2000</div>\n",
      "</li>\n",
      "</ul>\n",
      "<ul id=\"secondaryconsumers\">\n",
      "<li class=\"secondaryconsumerlist\">\n",
      "<div class=\"name\">fox</div>\n",
      "<div class=\"number\">100</div>\n",
      "</li>\n",
      "<li class=\"secondaryconsumerlist\">\n",
      "<div class=\"name\">bear</div>\n",
      "<div class=\"number\">100</div>\n",
      "</li>\n",
      "</ul>\n",
      "<ul id=\"tertiaryconsumers\">\n",
      "<li class=\"tertiaryconsumerlist\">\n",
      "<div class=\"name\">lion</div>\n",
      "<div class=\"number\">80</div>\n",
      "</li>\n",
      "<li class=\"tertiaryconsumerlist\">\n",
      "<div class=\"name\">tiger</div>\n",
      "<div class=\"number\">50</div>\n",
      "</li>\n",
      "</ul>\n",
      "</div>, <li class=\"producerlist\">\n",
      "<div class=\"name\">plants</div>\n",
      "<div class=\"number\">100000</div>\n",
      "</li>, <div class=\"name\">plants</div>, <div class=\"number\">100000</div>, <li class=\"producerlist\">\n",
      "<div class=\"name\">algae</div>\n",
      "<div class=\"number\">100000</div>\n",
      "</li>, <div class=\"name\">algae</div>, <div class=\"number\">100000</div>, <li class=\"primaryconsumerlist\">\n",
      "<div class=\"name\">deer</div>\n",
      "<div class=\"number\">1000</div>\n",
      "</li>, <div class=\"name\">deer</div>, <div class=\"number\">1000</div>, <li class=\"primaryconsumerlist\">\n",
      "<div class=\"name\">rabbit</div>\n",
      "<div class=\"number\">2000</div>\n",
      "</li>, <div class=\"name\">rabbit</div>, <div class=\"number\">2000</div>, <li class=\"secondaryconsumerlist\">\n",
      "<div class=\"name\">fox</div>\n",
      "<div class=\"number\">100</div>\n",
      "</li>, <div class=\"name\">fox</div>, <div class=\"number\">100</div>, <li class=\"secondaryconsumerlist\">\n",
      "<div class=\"name\">bear</div>\n",
      "<div class=\"number\">100</div>\n",
      "</li>, <div class=\"name\">bear</div>, <div class=\"number\">100</div>, <li class=\"tertiaryconsumerlist\">\n",
      "<div class=\"name\">lion</div>\n",
      "<div class=\"number\">80</div>\n",
      "</li>, <div class=\"name\">lion</div>, <div class=\"number\">80</div>, <li class=\"tertiaryconsumerlist\">\n",
      "<div class=\"name\">tiger</div>\n",
      "<div class=\"number\">50</div>\n",
      "</li>, <div class=\"name\">tiger</div>, <div class=\"number\">50</div>]\n"
     ]
    }
   ],
   "source": [
    "div_li_tags = soup.find_all([\"div\",\"li\"])\n",
    "print(div_li_tags)"
   ]
  },
  {
   "cell_type": "code",
   "execution_count": 63,
   "metadata": {},
   "outputs": [
    {
     "name": "stdout",
     "output_type": "stream",
     "text": [
      "[]\n"
     ]
    }
   ],
   "source": [
    "div_li_tags = soup.find_all([\"li\"],recursive=False)\n",
    "print(div_li_tags)"
   ]
  },
  {
   "cell_type": "code",
   "execution_count": 64,
   "metadata": {},
   "outputs": [
    {
     "name": "stdout",
     "output_type": "stream",
     "text": [
      "[<li class=\"primaryconsumerlist\">\n",
      "<div class=\"name\">deer</div>\n",
      "<div class=\"number\">1000</div>\n",
      "</li>, <li class=\"primaryconsumerlist\">\n",
      "<div class=\"name\">rabbit</div>\n",
      "<div class=\"number\">2000</div>\n",
      "</li>]\n"
     ]
    }
   ],
   "source": [
    "primaryconsumers = soup.find_all(class_=\"primaryconsumerlist\")\n",
    "print(primaryconsumers)"
   ]
  },
  {
   "cell_type": "code",
   "execution_count": 69,
   "metadata": {},
   "outputs": [
    {
     "name": "stdout",
     "output_type": "stream",
     "text": [
      "[<ul id=\"primaryconsumers\">\n",
      "<li class=\"primaryconsumerlist\">\n",
      "<div class=\"name\">deer</div>\n",
      "<div class=\"number\">1000</div>\n",
      "</li>\n",
      "<li class=\"primaryconsumerlist\">\n",
      "<div class=\"name\">rabbit</div>\n",
      "<div class=\"number\">2000</div>\n",
      "</li>\n",
      "</ul>]\n"
     ]
    }
   ],
   "source": [
    "primaryconsumer = primaryconsumers[0]\n",
    "parent_ul = primaryconsumer.find_parents('ul')\n",
    "print(parent_ul)"
   ]
  },
  {
   "cell_type": "code",
   "execution_count": 71,
   "metadata": {},
   "outputs": [
    {
     "name": "stdout",
     "output_type": "stream",
     "text": [
      "None\n"
     ]
    }
   ],
   "source": [
    "parent_p = primaryconsumer.find_parent(\"p\")\n",
    "print(parent_p)"
   ]
  },
  {
   "cell_type": "code",
   "execution_count": 74,
   "metadata": {},
   "outputs": [
    {
     "name": "stdout",
     "output_type": "stream",
     "text": [
      "<ul id=\"primaryconsumers\">\n",
      "<li class=\"primaryconsumerlist\">\n",
      "<div class=\"name\">deer</div>\n",
      "<div class=\"number\">1000</div>\n",
      "</li>\n",
      "<li class=\"primaryconsumerlist\">\n",
      "<div class=\"name\">rabbit</div>\n",
      "<div class=\"number\">2000</div>\n",
      "</li>\n",
      "</ul>\n"
     ]
    }
   ],
   "source": [
    "parent_p = primaryconsumer.find_parent('ul')\n",
    "print(parent_p)"
   ]
  },
  {
   "cell_type": "code",
   "execution_count": 75,
   "metadata": {},
   "outputs": [
    {
     "name": "stdout",
     "output_type": "stream",
     "text": [
      "<div class=\"ecopyramid\">\n",
      "<ul id=\"producers\">\n",
      "<li class=\"producerlist\">\n",
      "<div class=\"name\">plants</div>\n",
      "<div class=\"number\">100000</div>\n",
      "</li>\n",
      "<li class=\"producerlist\">\n",
      "<div class=\"name\">algae</div>\n",
      "<div class=\"number\">100000</div>\n",
      "</li>\n",
      "</ul>\n",
      "<ul id=\"primaryconsumers\">\n",
      "<li class=\"primaryconsumerlist\">\n",
      "<div class=\"name\">deer</div>\n",
      "<div class=\"number\">1000</div>\n",
      "</li>\n",
      "<li class=\"primaryconsumerlist\">\n",
      "<div class=\"name\">rabbit</div>\n",
      "<div class=\"number\">2000</div>\n",
      "</li>\n",
      "</ul>\n",
      "<ul id=\"secondaryconsumers\">\n",
      "<li class=\"secondaryconsumerlist\">\n",
      "<div class=\"name\">fox</div>\n",
      "<div class=\"number\">100</div>\n",
      "</li>\n",
      "<li class=\"secondaryconsumerlist\">\n",
      "<div class=\"name\">bear</div>\n",
      "<div class=\"number\">100</div>\n",
      "</li>\n",
      "</ul>\n",
      "<ul id=\"tertiaryconsumers\">\n",
      "<li class=\"tertiaryconsumerlist\">\n",
      "<div class=\"name\">lion</div>\n",
      "<div class=\"number\">80</div>\n",
      "</li>\n",
      "<li class=\"tertiaryconsumerlist\">\n",
      "<div class=\"name\">tiger</div>\n",
      "<div class=\"number\">50</div>\n",
      "</li>\n",
      "</ul>\n",
      "</div>\n"
     ]
    }
   ],
   "source": [
    "parent_p = primaryconsumer.find_parent('div')\n",
    "print(parent_p)"
   ]
  },
  {
   "cell_type": "code",
   "execution_count": 76,
   "metadata": {},
   "outputs": [
    {
     "name": "stdout",
     "output_type": "stream",
     "text": [
      "[<li class=\"producerlist\">\n",
      "<div class=\"name\">plants</div>\n",
      "<div class=\"number\">100000</div>\n",
      "</li>, <li class=\"producerlist\">\n",
      "<div class=\"name\">algae</div>\n",
      "<div class=\"number\">100000</div>\n",
      "</li>, <li class=\"primaryconsumerlist\">\n",
      "<div class=\"name\">deer</div>\n",
      "<div class=\"number\">1000</div>\n",
      "</li>, <li class=\"primaryconsumerlist\">\n",
      "<div class=\"name\">rabbit</div>\n",
      "<div class=\"number\">2000</div>\n",
      "</li>, <li class=\"secondaryconsumerlist\">\n",
      "<div class=\"name\">fox</div>\n",
      "<div class=\"number\">100</div>\n",
      "</li>, <li class=\"secondaryconsumerlist\">\n",
      "<div class=\"name\">bear</div>\n",
      "<div class=\"number\">100</div>\n",
      "</li>, <li class=\"tertiaryconsumerlist\">\n",
      "<div class=\"name\">lion</div>\n",
      "<div class=\"number\">80</div>\n",
      "</li>, <li class=\"tertiaryconsumerlist\">\n",
      "<div class=\"name\">tiger</div>\n",
      "<div class=\"number\">50</div>\n",
      "</li>]\n"
     ]
    }
   ],
   "source": [
    "first_div = soup.div\n",
    "all_li_tags = first_div.find_all_next(\"li\")\n",
    "print(all_li_tags)"
   ]
  },
  {
   "cell_type": "code",
   "execution_count": null,
   "metadata": {},
   "outputs": [],
   "source": []
  }
 ],
 "metadata": {
  "kernelspec": {
   "display_name": "Python 3",
   "language": "python",
   "name": "python3"
  },
  "language_info": {
   "codemirror_mode": {
    "name": "ipython",
    "version": 3
   },
   "file_extension": ".py",
   "mimetype": "text/x-python",
   "name": "python",
   "nbconvert_exporter": "python",
   "pygments_lexer": "ipython3",
   "version": "3.7.4"
  }
 },
 "nbformat": 4,
 "nbformat_minor": 4
}
