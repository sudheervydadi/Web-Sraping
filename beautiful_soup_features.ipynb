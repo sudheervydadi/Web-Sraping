{
 "cells": [
  {
   "cell_type": "code",
   "execution_count": 1,
   "metadata": {},
   "outputs": [],
   "source": [
    "from bs4 import BeautifulSoup"
   ]
  },
  {
   "cell_type": "code",
   "execution_count": 2,
   "metadata": {},
   "outputs": [],
   "source": [
    "helloworld = \"<p>Hello World</p>\"\n",
    "soup_string = BeautifulSoup(helloworld)"
   ]
  },
  {
   "cell_type": "code",
   "execution_count": 3,
   "metadata": {},
   "outputs": [
    {
     "data": {
      "text/plain": [
       "<html><body><p>Hello World</p></body></html>"
      ]
     },
     "execution_count": 3,
     "metadata": {},
     "output_type": "execute_result"
    }
   ],
   "source": [
    "soup_string"
   ]
  },
  {
   "cell_type": "code",
   "execution_count": 17,
   "metadata": {},
   "outputs": [
    {
     "name": "stdout",
     "output_type": "stream",
     "text": [
      "<?xml version=\"1.0\" encoding=\"utf-8\"?>\n",
      "<p>Hello World</p>\n"
     ]
    }
   ],
   "source": [
    "soup_xml = BeautifulSoup(helloworld,features= \"xml\")\n",
    "print(soup_xml)"
   ]
  },
  {
   "cell_type": "code",
   "execution_count": 18,
   "metadata": {},
   "outputs": [
    {
     "name": "stdout",
     "output_type": "stream",
     "text": [
      "<?xml version=\"1.0\" encoding=\"utf-8\"?>\n",
      "<a>content</a>\n"
     ]
    }
   ],
   "source": [
    "invalid_html = '<a invalid content'\n",
    "soup_xml = BeautifulSoup(invalid_html,features= \"xml\")\n",
    "print(soup_xml)"
   ]
  },
  {
   "cell_type": "code",
   "execution_count": 19,
   "metadata": {},
   "outputs": [
    {
     "name": "stdout",
     "output_type": "stream",
     "text": [
      "<html><body><a content=\"\" invalid=\"\"></a></body></html>\n"
     ]
    }
   ],
   "source": [
    "soup_invalid_html = BeautifulSoup(invalid_html,'lxml')\n",
    "print(soup_invalid_html)"
   ]
  },
  {
   "cell_type": "code",
   "execution_count": 21,
   "metadata": {},
   "outputs": [
    {
     "name": "stdout",
     "output_type": "stream",
     "text": [
      "&lt;a invalid content\n"
     ]
    }
   ],
   "source": [
    "soup_invalid_html = BeautifulSoup(invalid_html,'html.parser')\n",
    "print(soup_invalid_html)"
   ]
  },
  {
   "cell_type": "code",
   "execution_count": 22,
   "metadata": {},
   "outputs": [
    {
     "name": "stdout",
     "output_type": "stream",
     "text": [
      "<html><head></head><body></body></html>\n"
     ]
    }
   ],
   "source": [
    "soup_invalid_html = BeautifulSoup(invalid_html,'html5lib')\n",
    "print(soup_invalid_html)"
   ]
  },
  {
   "cell_type": "code",
   "execution_count": null,
   "metadata": {},
   "outputs": [],
   "source": []
  }
 ],
 "metadata": {
  "kernelspec": {
   "display_name": "Python 3",
   "language": "python",
   "name": "python3"
  },
  "language_info": {
   "codemirror_mode": {
    "name": "ipython",
    "version": 3
   },
   "file_extension": ".py",
   "mimetype": "text/x-python",
   "name": "python",
   "nbconvert_exporter": "python",
   "pygments_lexer": "ipython3",
   "version": "3.7.4"
  }
 },
 "nbformat": 4,
 "nbformat_minor": 4
}
